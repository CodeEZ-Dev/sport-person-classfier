{
 "cells": [
  {
   "cell_type": "code",
   "execution_count": 1,
   "id": "incorporate-railway",
   "metadata": {},
   "outputs": [
    {
     "name": "stdout",
     "output_type": "stream",
     "text": [
      "loading saved artifacts...start\n"
     ]
    },
    {
     "name": "stderr",
     "output_type": "stream",
     "text": [
      "D:\\anaconda3\\lib\\site-packages\\sklearn\\base.py:329: UserWarning: Trying to unpickle estimator StandardScaler from version 0.23.1 when using version 0.23.2. This might lead to breaking code or invalid results. Use at your own risk.\n",
      "  warnings.warn(\n",
      "D:\\anaconda3\\lib\\site-packages\\sklearn\\base.py:329: UserWarning: Trying to unpickle estimator SVC from version 0.23.1 when using version 0.23.2. This might lead to breaking code or invalid results. Use at your own risk.\n",
      "  warnings.warn(\n",
      "D:\\anaconda3\\lib\\site-packages\\sklearn\\base.py:329: UserWarning: Trying to unpickle estimator Pipeline from version 0.23.1 when using version 0.23.2. This might lead to breaking code or invalid results. Use at your own risk.\n",
      "  warnings.warn(\n"
     ]
    },
    {
     "name": "stdout",
     "output_type": "stream",
     "text": [
      "loading saved artifacts...done\n",
      "[{'class': 'lionel_messi', 'class_probability': [46.31, 1.4, 4.51, 7.42, 40.36], 'class_dictionary': {'lionel_messi': 0, 'maria_sharapova': 1, 'roger_federer': 2, 'serena_williams': 3, 'virat_kohli': 4}}]\n"
     ]
    }
   ],
   "source": [
    "import joblib\n",
    "import json\n",
    "import numpy as np\n",
    "import base64\n",
    "import cv2\n",
    "from wavelet import w2d\n",
    "\n",
    "__class_name_to_number = {}\n",
    "__class_number_to_name = {}\n",
    "\n",
    "__model = None\n",
    "\n",
    "def classify_image(image_base64_data, file_path=None):\n",
    "\n",
    "    imgs = get_cropped_image_if_2_eyes(file_path, image_base64_data)\n",
    "\n",
    "    result = []\n",
    "    for img in imgs:\n",
    "        scalled_raw_img = cv2.resize(img, (32, 32))\n",
    "        img_har = w2d(img, 'db1', 5)\n",
    "        scalled_img_har = cv2.resize(img_har, (32, 32))\n",
    "        combined_img = np.vstack((scalled_raw_img.reshape(32 * 32 * 3, 1), scalled_img_har.reshape(32 * 32, 1)))\n",
    "\n",
    "        len_image_array = 32*32*3 + 32*32\n",
    "\n",
    "        final = combined_img.reshape(1,len_image_array).astype(float)\n",
    "        result.append({\n",
    "            'class': class_number_to_name(__model.predict(final)[0]),\n",
    "            'class_probability': np.around(__model.predict_proba(final)*100,2).tolist()[0],\n",
    "            'class_dictionary': __class_name_to_number\n",
    "        })\n",
    "\n",
    "    return result\n",
    "\n",
    "def class_number_to_name(class_num):\n",
    "    return __class_number_to_name[class_num]\n",
    "\n",
    "def load_saved_artifacts():\n",
    "    print(\"loading saved artifacts...start\")\n",
    "    global __class_name_to_number\n",
    "    global __class_number_to_name\n",
    "\n",
    "    with open(\"./artifacts/class_dictionary.json\", \"r\") as f:\n",
    "        __class_name_to_number = json.load(f)\n",
    "        __class_number_to_name = {v:k for k,v in __class_name_to_number.items()}\n",
    "\n",
    "    global __model\n",
    "    if __model is None:\n",
    "        with open('./artifacts/saved_model.pkl', 'rb') as f:\n",
    "            __model = joblib.load(f)\n",
    "    print(\"loading saved artifacts...done\")\n",
    "\n",
    "\n",
    "def get_cv2_image_from_base64_string(b64str):\n",
    "    '''\n",
    "    credit: https://stackoverflow.com/questions/33754935/read-a-base-64-encoded-image-from-memory-using-opencv-python-library\n",
    "    :param uri:\n",
    "    :return:\n",
    "    '''\n",
    "    encoded_data = b64str.split(',')[1]\n",
    "    nparr = np.frombuffer(base64.b64decode(encoded_data), np.uint8)\n",
    "    img = cv2.imdecode(nparr, cv2.IMREAD_COLOR)\n",
    "    return img\n",
    "\n",
    "def get_cropped_image_if_2_eyes(image_path, image_base64_data):\n",
    "    face_cascade = cv2.CascadeClassifier('./opencv/haarcascades/haarcascade_frontalface_default.xml')\n",
    "    eye_cascade = cv2.CascadeClassifier('./opencv/haarcascades/haarcascade_eye.xml')\n",
    "\n",
    "    if image_path:\n",
    "        img = cv2.imread(image_path)\n",
    "    else:\n",
    "        img = get_cv2_image_from_base64_string(image_base64_data)\n",
    "\n",
    "    gray = cv2.cvtColor(img, cv2.COLOR_BGR2GRAY)\n",
    "    faces = face_cascade.detectMultiScale(gray, 1.3, 5)\n",
    "\n",
    "    cropped_faces = []\n",
    "    for (x,y,w,h) in faces:\n",
    "            roi_gray = gray[y:y+h, x:x+w]\n",
    "            roi_color = img[y:y+h, x:x+w]\n",
    "            eyes = eye_cascade.detectMultiScale(roi_gray)\n",
    "            if len(eyes) >= 2:\n",
    "                cropped_faces.append(roi_color)\n",
    "    return cropped_faces\n",
    "\n",
    "def get_b64_test_image_for_virat():\n",
    "    with open(\"b64.txt\") as f:\n",
    "        return f.read()\n",
    "\n",
    "if __name__ == '__main__':\n",
    "    load_saved_artifacts()\n",
    "    #print(class_number_to_name(2))\n",
    "    print(classify_image(get_b64_test_image_for_virat(), None))\n",
    "\n",
    "    #print(classify_image(None, \"./test_images/federer1.jpg\"))\n",
    "    #print(classify_image(None, \"./test_images/federer2.jpg\"))\n",
    "    #print(classify_image(None, \"./test_images/virat1.jpg\"))\n",
    "    # print(classify_image(None, \"./test_images/virat2.jpg\"))\n",
    "    # print(classify_image(None, \"./test_images/virat3.jpg\")) # Inconsistent result could be due to https://github.com/scikit-learn/scikit-learn/issues/13211\n",
    "    # print(classify_image(None, \"./test_images/serena1.jpg\"))\n",
    "    # print(classify_image(None, \"./test_images/serena2.jpg\"))\n",
    "    # print(classify_image(None, \"./test_images/sharapova1.jpg\"))"
   ]
  },
  {
   "cell_type": "code",
   "execution_count": null,
   "id": "impossible-surgeon",
   "metadata": {},
   "outputs": [
    {
     "name": "stdout",
     "output_type": "stream",
     "text": [
      "Starting Python Flask Server For Sports Celebrity Image Classification\n",
      "loading saved artifacts...start\n",
      "loading saved artifacts...done\n",
      " * Serving Flask app \"__main__\" (lazy loading)\n",
      " * Environment: production\n",
      "   WARNING: This is a development server. Do not use it in a production deployment.\n",
      "   Use a production WSGI server instead.\n",
      " * Debug mode: off\n"
     ]
    },
    {
     "name": "stderr",
     "output_type": "stream",
     "text": [
      " * Running on http://127.0.0.1:5000/ (Press CTRL+C to quit)\n"
     ]
    }
   ],
   "source": [
    "from flask import Flask, request, jsonify\n",
    "import util\n",
    "\n",
    "app = Flask(__name__)\n",
    "\n",
    "@app.route('/classify_image', methods=['GET', 'POST'])\n",
    "def classify_image():\n",
    "    image_data = request.form['image_data']\n",
    "\n",
    "    response = jsonify(util.classify_image(image_data))\n",
    "\n",
    "    response.headers.add('Access-Control-Allow-Origin', '*')\n",
    "\n",
    "    return response\n",
    "\n",
    "if __name__ == \"__main__\":\n",
    "    print(\"Starting Python Flask Server For Sports Celebrity Image Classification\")\n",
    "    util.load_saved_artifacts()\n",
    "    app.run(port=5000)"
   ]
  },
  {
   "cell_type": "code",
   "execution_count": null,
   "id": "medical-crash",
   "metadata": {},
   "outputs": [],
   "source": []
  }
 ],
 "metadata": {
  "kernelspec": {
   "display_name": "Python 3",
   "language": "python",
   "name": "python3"
  },
  "language_info": {
   "codemirror_mode": {
    "name": "ipython",
    "version": 3
   },
   "file_extension": ".py",
   "mimetype": "text/x-python",
   "name": "python",
   "nbconvert_exporter": "python",
   "pygments_lexer": "ipython3",
   "version": "3.8.5"
  }
 },
 "nbformat": 4,
 "nbformat_minor": 5
}
